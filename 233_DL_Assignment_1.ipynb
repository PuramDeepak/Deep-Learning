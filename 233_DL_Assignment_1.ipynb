{
  "nbformat": 4,
  "nbformat_minor": 0,
  "metadata": {
    "colab": {
      "provenance": []
    },
    "kernelspec": {
      "name": "python3",
      "display_name": "Python 3"
    },
    "language_info": {
      "name": "python"
    }
  },
  "cells": [
    {
      "cell_type": "markdown",
      "source": [
        "#GRU"
      ],
      "metadata": {
        "id": "c-MiYrI6lP_n"
      }
    },
    {
      "cell_type": "code",
      "execution_count": 1,
      "metadata": {
        "id": "ohraM6ExjQE3"
      },
      "outputs": [],
      "source": [
        "import numpy as np\n",
        "from tensorflow.keras.datasets import imdb\n",
        "from tensorflow.keras.models import Sequential\n",
        "from tensorflow.keras.layers import Embedding,GRU,Dense\n",
        "from tensorflow.keras.preprocessing import sequence"
      ]
    },
    {
      "cell_type": "code",
      "source": [
        "max_words = 6000\n",
        "(xt,yt),(xte,yte)= imdb.load_data(num_words=max_words)\n",
        "\n",
        "max_len =500\n",
        "xt=sequence.pad_sequences(xt,maxlen=max_len)\n",
        "xte=sequence.pad_sequences(xte,maxlen=max_len)\n",
        "\n",
        "model=Sequential()\n",
        "model.add(Embedding(max_words,100,input_length=max_len))\n",
        "model.add(GRU(128))\n",
        "model.add(Dense(1,activation='sigmoid'))"
      ],
      "metadata": {
        "id": "T44IBhzgjVTP"
      },
      "execution_count": 2,
      "outputs": []
    },
    {
      "cell_type": "code",
      "source": [
        "model.compile(loss='binary_crossentropy',optimizer='adam',metrics=['accuracy'])\n",
        "batch_size=128\n",
        "epochs=10\n",
        "model.fit(xt,yt,batch_size=batch_size,epochs=epochs)"
      ],
      "metadata": {
        "colab": {
          "base_uri": "https://localhost:8080/"
        },
        "id": "0DEc-Hk7jY3E",
        "outputId": "facfdefa-645f-4b09-9ee9-b4ccd9895195"
      },
      "execution_count": null,
      "outputs": [
        {
          "output_type": "stream",
          "name": "stdout",
          "text": [
            "Epoch 1/10\n",
            "196/196 [==============================] - 343s 2s/step - loss: 0.5289 - accuracy: 0.7153\n",
            "Epoch 2/10\n",
            "196/196 [==============================] - 312s 2s/step - loss: 0.2882 - accuracy: 0.8834\n",
            "Epoch 3/10\n"
          ]
        }
      ]
    },
    {
      "cell_type": "code",
      "source": [
        "loss,accuracy=model.evaluate(xte,yte,batch_size=batch_size)\n",
        "print(\"accuracy:\",accuracy)\n",
        "print(\"loss:\",loss)"
      ],
      "metadata": {
        "id": "GnSRN7h1jbzq"
      },
      "execution_count": null,
      "outputs": []
    },
    {
      "cell_type": "code",
      "source": [
        "history=model.fit(xt,yt,batch_size=batch_size,epochs=epochs)"
      ],
      "metadata": {
        "id": "T87TKUFvjjJN"
      },
      "execution_count": null,
      "outputs": []
    },
    {
      "cell_type": "code",
      "source": [
        "train_loss1 = history.history['loss']\n",
        "train_acc1 = history.history['accuracy']\n",
        "xc1=range(len(train_acc1))"
      ],
      "metadata": {
        "id": "5Dvz7wGPjmBW"
      },
      "execution_count": null,
      "outputs": []
    },
    {
      "cell_type": "code",
      "source": [
        "import matplotlib.pyplot as plt\n",
        "%matplotlib inline\n",
        "plt.plot(xc1, train_acc1)\n",
        "plt.xlabel(\"Epoch\")\n",
        "plt.ylabel(\"Accuracy\")\n",
        "plt.legend('train')"
      ],
      "metadata": {
        "id": "7NKyCEqojpQU"
      },
      "execution_count": null,
      "outputs": []
    },
    {
      "cell_type": "markdown",
      "source": [
        "#LSTM\n"
      ],
      "metadata": {
        "id": "qksdto17jtjk"
      }
    },
    {
      "cell_type": "code",
      "source": [
        "from tensorflow.keras.layers import Embedding,LSTM,Dense"
      ],
      "metadata": {
        "id": "TBYVAFVajwtB"
      },
      "execution_count": null,
      "outputs": []
    },
    {
      "cell_type": "code",
      "source": [
        "model = Sequential()\n",
        "model.add(Embedding(max_words,100, input_length=max_len))\n",
        "model.add(LSTM(128))\n",
        "model.add(Dense(units=1, activation='sigmoid'))\n",
        ""
      ],
      "metadata": {
        "id": "rAKg7eAnj77f"
      },
      "execution_count": null,
      "outputs": []
    },
    {
      "cell_type": "code",
      "source": [
        "model.compile(loss='binary_crossentropy', optimizer='adam', metrics=['accuracy'])"
      ],
      "metadata": {
        "id": "QVgMOrkKj_7S"
      },
      "execution_count": null,
      "outputs": []
    },
    {
      "cell_type": "code",
      "source": [
        "epochs = 5\n",
        "batch_size = 128\n",
        "\n",
        "hist=model.fit(xt, yt, epochs=epochs, batch_size=batch_size)"
      ],
      "metadata": {
        "id": "NtgG4qAGkE_E"
      },
      "execution_count": null,
      "outputs": []
    },
    {
      "cell_type": "code",
      "source": [
        "loss,accuracy=model.evaluate(xte,yte,batch_size=batch_size)\n",
        "print(\"accuracy:\",accuracy)\n",
        "print(\"loss:\",loss)"
      ],
      "metadata": {
        "id": "3GYue-7okH7Q"
      },
      "execution_count": null,
      "outputs": []
    },
    {
      "cell_type": "code",
      "source": [
        "train_loss2 = hist.history['loss']\n",
        "train_acc2 = hist.history['accuracy']\n",
        "xc2=range(len(train_acc2))\n",
        ""
      ],
      "metadata": {
        "id": "fICB0fcfkLIi"
      },
      "execution_count": null,
      "outputs": []
    },
    {
      "cell_type": "code",
      "source": [
        "import matplotlib.pyplot as plt\n",
        "%matplotlib inline\n",
        "plt.plot(xc2, train_acc2)\n",
        "plt.xlabel(\"Epoch\")\n",
        "plt.ylabel(\"Accuracy\")\n",
        "plt.legend('train')"
      ],
      "metadata": {
        "id": "mj8yqJdvkOTI"
      },
      "execution_count": null,
      "outputs": []
    },
    {
      "cell_type": "markdown",
      "source": [
        "#RNN\n"
      ],
      "metadata": {
        "id": "sCfxeuHWkQq2"
      }
    },
    {
      "cell_type": "code",
      "source": [
        "from tensorflow.keras.layers import Embedding,RNN\n",
        "from keras import layers"
      ],
      "metadata": {
        "id": "XgsdwQlCkTDA"
      },
      "execution_count": null,
      "outputs": []
    },
    {
      "cell_type": "code",
      "source": [
        "model = Sequential()\n",
        "model.add(Embedding(max_words,100, input_length=max_len))\n",
        "model.add(layers.LSTM(128))\n",
        "model.add(layers.Dense(10))\n",
        "model.add(Dense(units=1, activation='sigmoid'))"
      ],
      "metadata": {
        "id": "49tOsVTYkbxq"
      },
      "execution_count": null,
      "outputs": []
    },
    {
      "cell_type": "code",
      "source": [
        "model.compile(loss='binary_crossentropy', optimizer='adam', metrics=['accuracy'])"
      ],
      "metadata": {
        "id": "e5jeF4rlkfiO"
      },
      "execution_count": null,
      "outputs": []
    },
    {
      "cell_type": "code",
      "source": [
        "epochs = 7\n",
        "batch_size = 128\n",
        "\n",
        "h=model.fit(xt, yt, epochs=epochs, batch_size=batch_size, validation_split=0.2)"
      ],
      "metadata": {
        "id": "PrumIzf9kjLG"
      },
      "execution_count": null,
      "outputs": []
    },
    {
      "cell_type": "code",
      "source": [
        "loss,accuracy=model.evaluate(xte,yte,batch_size=batch_size)\n",
        "print(\"accuracy:\",accuracy)\n",
        "print(\"loss:\",loss)"
      ],
      "metadata": {
        "id": "plBzXyBtkmHi"
      },
      "execution_count": null,
      "outputs": []
    },
    {
      "cell_type": "code",
      "source": [
        "train_loss3 = h.history['loss']\n",
        "train_acc3 = h.history['accuracy']\n",
        "xc3=range(len(train_loss3))\n",
        "import matplotlib.pyplot as plt\n",
        "%matplotlib inline\n",
        "plt.plot(xc3, train_acc3)\n",
        "plt.xlabel(\"Epoch\")\n",
        "plt.ylabel(\"Accuracy\")\n",
        "plt.legend('train')"
      ],
      "metadata": {
        "id": "AQHKajaPkpuo"
      },
      "execution_count": null,
      "outputs": []
    },
    {
      "cell_type": "code",
      "source": [
        "plt.plot(xc1, train_acc1)\n",
        "plt.plot(xc2, train_acc2)\n",
        "plt.plot(xc3, train_acc3)\n",
        "plt.xlabel(\"Epoch\")\n",
        "plt.ylabel(\"Accuracy\")\n",
        "plt.legend([\"GRU\",\"LSTM\",\"RNN\"])"
      ],
      "metadata": {
        "id": "8WGTRaFNlMNY"
      },
      "execution_count": null,
      "outputs": []
    }
  ]
}